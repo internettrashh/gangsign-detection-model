{
 "cells": [
  {
   "cell_type": "code",
   "execution_count": null,
   "id": "9e9ea63c-9d45-456c-8932-ea77f24e19d0",
   "metadata": {},
   "outputs": [],
   "source": [
    "import cv2\n",
    "import os\n",
    "import uuid\n",
    "import time\n"
   ]
  },
  {
   "cell_type": "code",
   "execution_count": null,
   "id": "6db81668-a4f7-44a4-b53b-74f70b792314",
   "metadata": {},
   "outputs": [],
   "source": [
    "IMAGES_PATH = 'Tensorflow/workspace/images/meradataset'\n"
   ]
  },
  {
   "cell_type": "code",
   "execution_count": null,
   "id": "dca9dc8d-dfbd-4f20-9703-3c706ba58659",
   "metadata": {},
   "outputs": [],
   "source": [
    "labels = ['crip' , 'blood' , 'pitchfork' ,'eastside','crown']\n",
    "number_imgs = 15"
   ]
  },
  {
   "cell_type": "code",
   "execution_count": null,
   "id": "9f1a251d-7abb-4899-97d7-9ef7ecaaed9a",
   "metadata": {},
   "outputs": [],
   "source": [
    "#loop for caputring images and creating the dataset\n",
    "for label in labels:\n",
    "    !mkdir = {'Tensorflow/workspace/images/meradataset\\\\'+label} #making a directory for each label\n",
    "    cam = cv2.videocapture(2)\n",
    "    print('photu le raa meri jaan for {}'.format(label))\n",
    "    time.sleep(8)\n",
    "    for image in range(number_imgs)\n",
    "    ret,frame = cam.read() \n",
    "    imgname = os.path.join(IMAGES_PATH,label,label+'.'+{}.jpeg'.format(str(uuid.uuid1())))\n",
    "    cv2.imwrite(imgname,frame)\n",
    "    cv2.imshow('frame',frame)\n",
    "            time.sleep(2)\n",
    "            if cv2.waitKey(1)&0xFF == ord('q'):\n",
    "                    break\n",
    "                cap.release()\n",
    "    \n",
    "    \n",
    "          \n",
    "    \n",
    "    "
   ]
  }
 ],
 "metadata": {
  "kernelspec": {
   "display_name": "Python 3 (ipykernel)",
   "language": "python",
   "name": "python3"
  },
  "language_info": {
   "codemirror_mode": {
    "name": "ipython",
    "version": 3
   },
   "file_extension": ".py",
   "mimetype": "text/x-python",
   "name": "python",
   "nbconvert_exporter": "python",
   "pygments_lexer": "ipython3",
   "version": "3.11.4"
  }
 },
 "nbformat": 4,
 "nbformat_minor": 5
}
